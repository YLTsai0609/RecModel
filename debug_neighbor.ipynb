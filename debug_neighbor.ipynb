{
 "cells": [
  {
   "source": [
    "import scipy.sparse\n",
    "import numpy as np\n",
    "import time\n",
    "import RecModel\n",
    "from sklearn.metrics import pairwise_distances"
   ],
   "cell_type": "code",
   "outputs": [
    {
     "output_type": "error",
     "ename": "ModuleNotFoundError",
     "evalue": "No module named 'sparse_tools'",
     "traceback": [
      "\u001b[0;31m---------------------------------------------------------------------------\u001b[0m",
      "\u001b[0;31mModuleNotFoundError\u001b[0m                       Traceback (most recent call last)",
      "\u001b[0;32m<ipython-input-1-32b2c749330b>\u001b[0m in \u001b[0;36m<module>\u001b[0;34m\u001b[0m\n\u001b[1;32m      2\u001b[0m \u001b[0;32mimport\u001b[0m \u001b[0mnumpy\u001b[0m \u001b[0;32mas\u001b[0m \u001b[0mnp\u001b[0m\u001b[0;34m\u001b[0m\u001b[0;34m\u001b[0m\u001b[0m\n\u001b[1;32m      3\u001b[0m \u001b[0;32mimport\u001b[0m \u001b[0mtime\u001b[0m\u001b[0;34m\u001b[0m\u001b[0;34m\u001b[0m\u001b[0m\n\u001b[0;32m----> 4\u001b[0;31m \u001b[0;32mimport\u001b[0m \u001b[0mRecModel\u001b[0m\u001b[0;34m\u001b[0m\u001b[0;34m\u001b[0m\u001b[0m\n\u001b[0m\u001b[1;32m      5\u001b[0m \u001b[0;32mfrom\u001b[0m \u001b[0msklearn\u001b[0m\u001b[0;34m.\u001b[0m\u001b[0mmetrics\u001b[0m \u001b[0;32mimport\u001b[0m \u001b[0mpairwise_distances\u001b[0m\u001b[0;34m\u001b[0m\u001b[0;34m\u001b[0m\u001b[0m\n",
      "\u001b[0;32m~/Documents/fast_Reco/RecModel/__init__.py\u001b[0m in \u001b[0;36m<module>\u001b[0;34m\u001b[0m\n\u001b[1;32m      1\u001b[0m \u001b[0;31m# Import Relevant models\u001b[0m\u001b[0;34m\u001b[0m\u001b[0;34m\u001b[0m\u001b[0;34m\u001b[0m\u001b[0m\n\u001b[0;32m----> 2\u001b[0;31m \u001b[0;32mfrom\u001b[0m \u001b[0;34m.\u001b[0m\u001b[0mpy_models\u001b[0m\u001b[0;34m.\u001b[0m\u001b[0mslim_model\u001b[0m \u001b[0;32mimport\u001b[0m \u001b[0mSlim\u001b[0m\u001b[0;34m\u001b[0m\u001b[0;34m\u001b[0m\u001b[0m\n\u001b[0m\u001b[1;32m      3\u001b[0m \u001b[0;32mfrom\u001b[0m \u001b[0;34m.\u001b[0m\u001b[0mpy_models\u001b[0m\u001b[0;34m.\u001b[0m\u001b[0mnaive_baseline_model\u001b[0m \u001b[0;32mimport\u001b[0m \u001b[0mNaiveBaseline\u001b[0m\u001b[0;34m\u001b[0m\u001b[0;34m\u001b[0m\u001b[0m\n\u001b[1;32m      4\u001b[0m \u001b[0;32mfrom\u001b[0m \u001b[0;34m.\u001b[0m\u001b[0mpy_models\u001b[0m\u001b[0;34m.\u001b[0m\u001b[0msmart_baseline_model\u001b[0m \u001b[0;32mimport\u001b[0m \u001b[0mSmartBaseline\u001b[0m\u001b[0;34m\u001b[0m\u001b[0;34m\u001b[0m\u001b[0m\n\u001b[1;32m      5\u001b[0m \u001b[0;32mfrom\u001b[0m \u001b[0;34m.\u001b[0m\u001b[0mpy_models\u001b[0m\u001b[0;34m.\u001b[0m\u001b[0mbaseline_model\u001b[0m \u001b[0;32mimport\u001b[0m \u001b[0mBaseline\u001b[0m\u001b[0;34m\u001b[0m\u001b[0;34m\u001b[0m\u001b[0m\n",
      "\u001b[0;32m~/Documents/fast_Reco/RecModel/py_models/slim_model.py\u001b[0m in \u001b[0;36m<module>\u001b[0;34m\u001b[0m\n\u001b[1;32m      6\u001b[0m \u001b[0;31m# Imports from own package.\u001b[0m\u001b[0;34m\u001b[0m\u001b[0;34m\u001b[0m\u001b[0;34m\u001b[0m\u001b[0m\n\u001b[1;32m      7\u001b[0m \u001b[0;32mfrom\u001b[0m \u001b[0mRecModel\u001b[0m\u001b[0;34m.\u001b[0m\u001b[0mpy_models\u001b[0m\u001b[0;34m.\u001b[0m\u001b[0mbase_model\u001b[0m \u001b[0;32mimport\u001b[0m \u001b[0mRecModel\u001b[0m\u001b[0;34m\u001b[0m\u001b[0;34m\u001b[0m\u001b[0m\n\u001b[0;32m----> 8\u001b[0;31m \u001b[0;32mfrom\u001b[0m \u001b[0mRecModel\u001b[0m\u001b[0;34m.\u001b[0m\u001b[0mpy_models\u001b[0m\u001b[0;34m.\u001b[0m\u001b[0mfast_utils\u001b[0m\u001b[0;34m.\u001b[0m\u001b[0mslim_utils\u001b[0m \u001b[0;32mimport\u001b[0m \u001b[0m_predict_slim\u001b[0m\u001b[0;34m,\u001b[0m \u001b[0mtrain_Slim\u001b[0m\u001b[0;34m\u001b[0m\u001b[0;34m\u001b[0m\u001b[0m\n\u001b[0m\u001b[1;32m      9\u001b[0m \u001b[0;34m\u001b[0m\u001b[0m\n\u001b[1;32m     10\u001b[0m \u001b[0;32mclass\u001b[0m \u001b[0mSlim\u001b[0m\u001b[0;34m(\u001b[0m\u001b[0mRecModel\u001b[0m\u001b[0;34m)\u001b[0m\u001b[0;34m:\u001b[0m\u001b[0;34m\u001b[0m\u001b[0;34m\u001b[0m\u001b[0m\n",
      "\u001b[0;32mslim_utils.pyx\u001b[0m in \u001b[0;36minit slim_utils\u001b[0;34m()\u001b[0m\n",
      "\u001b[0;31mModuleNotFoundError\u001b[0m: No module named 'sparse_tools'"
     ]
    }
   ],
   "metadata": {},
   "execution_count": 1
  },
  {
   "source": [
    "train_mat = scipy.sparse.load_npz(\"data/mat_bin_train.npz\")\n",
    "test_mat = scipy.sparse.load_npz(\"data/mat_bin_test.npz\")\n",
    "n_users, n_items = train_mat.shape"
   ],
   "cell_type": "code",
   "outputs": [],
   "metadata": {},
   "execution_count": 3
  },
  {
   "source": [
    "test_neighbor = RecModel.Neighborhood(axis=1,num_items=train_mat.shape[1], num_users=train_mat.shape[0], nb_size=50)"
   ],
   "cell_type": "code",
   "outputs": [],
   "metadata": {},
   "execution_count": 4
  },
  {
   "source": [
    "start = time.time()\n",
    "test_neighbor.train(train_mat.copy(), 'jaccard', cores=8)\n",
    "print(f\"Training Done! It took {time.time() - start} seconds\")"
   ],
   "cell_type": "code",
   "outputs": [
    {
     "output_type": "stream",
     "name": "stdout",
     "text": "Training Done! It took 5.691510200500488 seconds\n"
    }
   ],
   "metadata": {},
   "execution_count": 5
  },
  {
   "source": [
    "start = time.time()\n",
    "perf=test_neighbor.eval_topn(test_mat=test_mat[:5, :].copy(), rand_sampled=51, topn=np.array([4], dtype=np.int32), random_state=1993, cores=1)\n",
    "print(f\"perf: {perf} and the execution took {time.time() - start}\")"
   ],
   "cell_type": "code",
   "outputs": [
    {
     "output_type": "stream",
     "name": "stdout",
     "text": "perf: {'Recall@4': 0.8} and the execution took 0.0024046897888183594\n"
    }
   ],
   "metadata": {},
   "execution_count": 6
  },
  {
   "source": [
    "start = time.time()\n",
    "perf=test_neighbor.eval_topn(test_mat=test_mat.copy(), rand_sampled=1000, topn=np.array([4, 10, 20, 50], dtype=np.int32), random_state=1993, cores=8)\n",
    "print(f\"perf: {perf} and the execution took {time.time() - start}\")"
   ],
   "cell_type": "code",
   "outputs": [
    {
     "output_type": "stream",
     "name": "stdout",
     "text": "perf: {'Recall@4': 0.4292443124212007, 'Recall@10': 0.4318631613996625, 'Recall@20': 0.4343061733752848, 'Recall@50': 0.44139951289409} and the execution took 156.20100092887878\n"
    }
   ],
   "metadata": {},
   "execution_count": 72
  },
  {
   "source": [
    "start = time.time()\n",
    "perf=test_neighbor.eval_topn(test_mat=test_mat[:5, :].copy(), rand_sampled=10, topn=np.array([4], dtype=np.int32), random_state=1993, cores=8)\n",
    "print(f\"perf: {perf} and the execution took {time.time() - start}\")"
   ],
   "cell_type": "code",
   "outputs": [
    {
     "output_type": "stream",
     "name": "stdout",
     "text": "perf: {'Recall@4': 0.8} and the execution took 0.5421962738037109\n"
    }
   ],
   "metadata": {},
   "execution_count": 7
  },
  {
   "source": [
    "len(test_mat[:5, :].nonzero()[0])"
   ],
   "cell_type": "code",
   "outputs": [
    {
     "output_type": "execute_result",
     "data": {
      "text/plain": "5"
     },
     "metadata": {},
     "execution_count": 8
    }
   ],
   "metadata": {},
   "execution_count": 8
  },
  {
   "source": [
    "np.random.seed(1993)\n",
    "random_items = np.random.randint(n_items, size=10)\n",
    "random_items"
   ],
   "cell_type": "code",
   "outputs": [
    {
     "output_type": "execute_result",
     "data": {
      "text/plain": "array([17825, 14009, 22449,  8417, 23837, 22823,  8541, 24905, 15664,\n        8316])"
     },
     "metadata": {},
     "execution_count": 9
    }
   ],
   "metadata": {},
   "execution_count": 9
  },
  {
   "source": [
    "test_mat[:10, :].nonzero()"
   ],
   "cell_type": "code",
   "outputs": [
    {
     "output_type": "execute_result",
     "data": {
      "text/plain": "(array([0, 1, 4, 4, 4, 6, 6, 8, 8], dtype=int32),\n array([19585, 25919,   799, 14047, 21703, 18439, 18793,  1855, 10523],\n       dtype=int32))"
     },
     "metadata": {},
     "execution_count": 10
    }
   ],
   "metadata": {},
   "execution_count": 10
  },
  {
   "source": [
    "np.append(19585, random_items)"
   ],
   "cell_type": "code",
   "outputs": [
    {
     "output_type": "execute_result",
     "data": {
      "text/plain": "array([19585, 17825, 14009, 22449,  8417, 23837, 22823,  8541, 24905,\n       15664,  8316])"
     },
     "metadata": {},
     "execution_count": 11
    }
   ],
   "metadata": {},
   "execution_count": 11
  },
  {
   "source": [
    "train_mat[6, :].nonzero()[0]"
   ],
   "cell_type": "code",
   "outputs": [
    {
     "output_type": "execute_result",
     "data": {
      "text/plain": "array([], dtype=int32)"
     },
     "metadata": {},
     "execution_count": 67
    }
   ],
   "metadata": {},
   "execution_count": 67
  },
  {
   "source": [
    "user = 8\n",
    "test_neighbor.predict(users=np.full(8, user, dtype=np.int32), items=np.append(1855, random_items).astype(np.int32))"
   ],
   "cell_type": "code",
   "outputs": [
    {
     "output_type": "execute_result",
     "data": {
      "text/plain": "array([1.        , 0.9999993 , 0.        , 0.        , 0.        ,\n       0.        , 0.        , 0.99999994, 0.        , 0.        ,\n       0.        ], dtype=float32)"
     },
     "metadata": {},
     "execution_count": 70
    }
   ],
   "metadata": {},
   "execution_count": 70
  },
  {
   "source": [
    "user = 6\n",
    "test_neighbor.rank(users=user, items=np.append( 10523, random_items).astype(np.int32), topn=4)"
   ],
   "cell_type": "code",
   "outputs": [
    {
     "output_type": "execute_result",
     "data": {
      "text/plain": "array([10523, 15664,  8541, 24905], dtype=int32)"
     },
     "metadata": {},
     "execution_count": 263
    }
   ],
   "metadata": {},
   "execution_count": 263
  },
  {
   "cell_type": "code",
   "execution_count": 9,
   "metadata": {},
   "outputs": [
    {
     "ename": "NameError",
     "evalue": "name 'random_items' is not defined",
     "output_type": "error",
     "traceback": [
      "\u001b[0;31m---------------------------------------------------------------------------\u001b[0m",
      "\u001b[0;31mNameError\u001b[0m                                 Traceback (most recent call last)",
      "\u001b[0;32m<ipython-input-9-0375454642a1>\u001b[0m in \u001b[0;36m<module>\u001b[0;34m\u001b[0m\n\u001b[0;32m----> 1\u001b[0;31m \u001b[0mitems\u001b[0m \u001b[0;34m=\u001b[0m \u001b[0mnp\u001b[0m\u001b[0;34m.\u001b[0m\u001b[0mappend\u001b[0m\u001b[0;34m(\u001b[0m\u001b[0mnp\u001b[0m\u001b[0;34m.\u001b[0m\u001b[0marray\u001b[0m\u001b[0;34m(\u001b[0m\u001b[0;34m[\u001b[0m\u001b[0;36m799\u001b[0m\u001b[0;34m]\u001b[0m\u001b[0;34m)\u001b[0m\u001b[0;34m,\u001b[0m \u001b[0mrandom_items\u001b[0m\u001b[0;34m)\u001b[0m\u001b[0;34m.\u001b[0m\u001b[0mastype\u001b[0m\u001b[0;34m(\u001b[0m\u001b[0mnp\u001b[0m\u001b[0;34m.\u001b[0m\u001b[0mint32\u001b[0m\u001b[0;34m)\u001b[0m\u001b[0;34m\u001b[0m\u001b[0;34m\u001b[0m\u001b[0m\n\u001b[0m",
      "\u001b[0;31mNameError\u001b[0m: name 'random_items' is not defined"
     ]
    }
   ],
   "source": [
    "items = np.append(np.array([799]), random_items).astype(np.int32)"
   ]
  },
  {
   "cell_type": "code",
   "execution_count": 8,
   "metadata": {},
   "outputs": [
    {
     "ename": "NameError",
     "evalue": "name 'items' is not defined",
     "output_type": "error",
     "traceback": [
      "\u001b[0;31m---------------------------------------------------------------------------\u001b[0m",
      "\u001b[0;31mNameError\u001b[0m                                 Traceback (most recent call last)",
      "\u001b[0;32m<ipython-input-8-a5e2ac604446>\u001b[0m in \u001b[0;36m<module>\u001b[0;34m\u001b[0m\n\u001b[0;32m----> 1\u001b[0;31m \u001b[0mtest_neighbor\u001b[0m\u001b[0;34m.\u001b[0m\u001b[0mrank\u001b[0m\u001b[0;34m(\u001b[0m\u001b[0musers\u001b[0m\u001b[0;34m=\u001b[0m\u001b[0;36m4\u001b[0m\u001b[0;34m,\u001b[0m \u001b[0mitems\u001b[0m\u001b[0;34m=\u001b[0m\u001b[0mitems\u001b[0m\u001b[0;34m,\u001b[0m \u001b[0mtopn\u001b[0m\u001b[0;34m=\u001b[0m\u001b[0;36m4\u001b[0m\u001b[0;34m)\u001b[0m\u001b[0;34m\u001b[0m\u001b[0;34m\u001b[0m\u001b[0m\n\u001b[0m",
      "\u001b[0;31mNameError\u001b[0m: name 'items' is not defined"
     ]
    }
   ],
   "source": [
    "test_neighbor.rank(users=4, items=items, topn=4)"
   ]
  },
  {
   "cell_type": "code",
   "execution_count": 75,
   "metadata": {},
   "outputs": [],
   "source": [
    "predictions = test_neighbor.predict(users=np.full(1001, 4, dtype=np.int32), items=np.append(np.array([799]), random_items).astype(np.int32))"
   ]
  },
  {
   "cell_type": "code",
   "execution_count": 78,
   "metadata": {},
   "outputs": [
    {
     "data": {
      "text/plain": [
       "array([1.        , 1.        , 0.99999994, 1.        , 0.        ,\n",
       "       0.9999989 , 0.9999999 , 1.        , 0.9999998 , 0.9999992 ,\n",
       "       0.99999946, 0.99999994, 0.9999999 , 1.        , 0.99999994,\n",
       "       0.99999994, 0.99999994, 0.9999982 , 1.        , 0.99999976,\n",
       "       0.99999994, 1.        , 0.99999976, 0.999997  , 0.        ,\n",
       "       0.99999887, 0.9999997 , 0.99999994, 0.9999994 , 1.        ,\n",
       "       0.9999998 , 0.99999976, 0.99999994, 1.        , 1.        ,\n",
       "       0.9999943 , 0.999999  , 1.        , 0.99999976, 0.99999005,\n",
       "       0.99999946, 0.9999996 , 0.9999993 , 0.        , 0.9999993 ,\n",
       "       0.9999999 , 0.99999994, 0.        , 1.        , 1.        ,\n",
       "       0.9999984 , 0.9999983 , 0.9999994 , 0.99999994, 0.99999595,\n",
       "       0.9999988 , 0.9999978 , 0.99999934, 0.9999999 , 0.        ,\n",
       "       0.99999994, 1.        , 1.        , 0.9999997 , 1.        ,\n",
       "       0.9999999 , 0.9999988 , 0.9999996 , 0.99999976, 0.9999999 ,\n",
       "       1.        , 0.9999991 , 0.        , 0.9999992 , 0.99999636,\n",
       "       0.99999994, 0.99999994, 0.9999998 , 0.99999994, 0.99999976,\n",
       "       1.        , 0.99999946, 0.999997  , 0.99999994, 0.9999986 ,\n",
       "       0.9999997 , 0.99999976, 1.        , 0.99999994, 0.9999999 ,\n",
       "       0.9999991 , 0.9999998 , 0.99999994, 0.99999887, 0.        ,\n",
       "       1.        , 0.9999999 , 0.99999994, 0.99999994, 0.9999996 ],\n",
       "      dtype=float32)"
      ]
     },
     "execution_count": 78,
     "metadata": {},
     "output_type": "execute_result"
    }
   ],
   "source": [
    "predictions[:100]"
   ]
  },
  {
   "cell_type": "code",
   "execution_count": 61,
   "metadata": {},
   "outputs": [
    {
     "data": {
      "text/plain": [
       "array([  799, 16737, 13263,  5101], dtype=int32)"
      ]
     },
     "execution_count": 61,
     "metadata": {},
     "output_type": "execute_result"
    }
   ],
   "source": [
    "items[np.argpartition(predictions, list(range(-4, 0, 1)))[-4:]][::-1]"
   ]
  },
  {
   "cell_type": "code",
   "execution_count": 71,
   "metadata": {},
   "outputs": [
    {
     "data": {
      "text/plain": [
       "array([  799, 15182, 25393, 21887, 16692], dtype=int32)"
      ]
     },
     "execution_count": 71,
     "metadata": {},
     "output_type": "execute_result"
    }
   ],
   "source": [
    "items = items[:5]\n",
    "items"
   ]
  },
  {
   "cell_type": "code",
   "execution_count": 72,
   "metadata": {},
   "outputs": [],
   "source": [
    "predictions = np.full(5, 1.0, dtype=np.float32)"
   ]
  },
  {
   "cell_type": "code",
   "execution_count": 73,
   "metadata": {},
   "outputs": [
    {
     "data": {
      "text/plain": [
       "array([1., 1., 1., 1., 1.], dtype=float32)"
      ]
     },
     "execution_count": 73,
     "metadata": {},
     "output_type": "execute_result"
    }
   ],
   "source": [
    "predictions"
   ]
  },
  {
   "cell_type": "code",
   "execution_count": 74,
   "metadata": {},
   "outputs": [
    {
     "data": {
      "text/plain": [
       "array([16692, 21887, 25393, 15182], dtype=int32)"
      ]
     },
     "execution_count": 74,
     "metadata": {},
     "output_type": "execute_result"
    }
   ],
   "source": [
    "items[np.argpartition(predictions, list(range(-4, 0, 1)))[-4:]][::-1]"
   ]
  }
 ],
 "metadata": {
  "kernelspec": {
   "display_name": "Python 3",
   "language": "python",
   "name": "python3"
  },
  "language_info": {
   "codemirror_mode": {
    "name": "ipython",
    "version": 3
   },
   "file_extension": ".py",
   "mimetype": "text/x-python",
   "name": "python",
   "nbconvert_exporter": "python",
   "pygments_lexer": "ipython3",
   "version": "3.7.3"
  }
 },
 "nbformat": 4,
 "nbformat_minor": 4
}