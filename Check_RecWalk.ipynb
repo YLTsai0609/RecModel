{
 "cells": [
  {
   "cell_type": "code",
   "execution_count": 1,
   "metadata": {},
   "outputs": [],
   "source": [
    "import numpy as np\n",
    "import scipy.sparse\n",
    "import RecModel"
   ]
  },
  {
   "cell_type": "markdown",
   "metadata": {},
   "source": [
    "Import the pre trained slim model"
   ]
  },
  {
   "cell_type": "code",
   "execution_count": 2,
   "metadata": {},
   "outputs": [],
   "source": [
    "slim_W = scipy.sparse.load_npz(\"slim_W.npz\").astype(np.float32)"
   ]
  },
  {
   "cell_type": "markdown",
   "metadata": {},
   "source": [
    "Import data"
   ]
  },
  {
   "cell_type": "code",
   "execution_count": 3,
   "metadata": {},
   "outputs": [],
   "source": [
    "train_mat_bin = scipy.sparse.load_npz('data/mat_bin_train.npz')\n",
    "eval_mat_bin = scipy.sparse.load_npz('data/mat_bin_validate.npz')"
   ]
  },
  {
   "cell_type": "markdown",
   "metadata": {},
   "source": [
    "Create a smaller matrix that has only nonzero entries."
   ]
  },
  {
   "cell_type": "code",
   "execution_count": 4,
   "metadata": {},
   "outputs": [],
   "source": [
    "n_rows = 50000\n",
    "n_cols = 5000\n",
    "\n",
    "rows = np.random.choice(np.nonzero(a=train_mat_bin.sum(axis=1).A1 > 0)[0], size = n_rows, replace=False)\n",
    "cols =  np.random.choice(np.nonzero(a=train_mat_bin.sum(axis=0).A1 > 0)[0], size = n_cols, replace=False)"
   ]
  },
  {
   "cell_type": "code",
   "execution_count": 5,
   "metadata": {},
   "outputs": [],
   "source": [
    "train_mat = train_mat_bin[rows, :][:, cols].copy()\n",
    "eval_mat = eval_mat_bin[rows, :][:, cols].copy()\n",
    "n_users, n_items = train_mat.shape"
   ]
  },
  {
   "cell_type": "code",
   "execution_count": 10,
   "metadata": {},
   "outputs": [],
   "source": [
    "recwalk = RecModel.Recwalk(num_items=n_items, num_users=n_users, eval_method='k_step', k_steps=5, damping=0.2, slim_W=None)"
   ]
  },
  {
   "cell_type": "code",
   "execution_count": 11,
   "metadata": {},
   "outputs": [
    {
     "name": "stdout",
     "output_type": "stream",
     "text": [
      "5000 models need to be fitted\n"
     ]
    },
    {
     "name": "stderr",
     "output_type": "stream",
     "text": [
      "/home/titoeb/anaconda3/lib/python3.7/site-packages/scipy/sparse/_index.py:112: SparseEfficiencyWarning: Changing the sparsity structure of a csr_matrix is expensive. lil_matrix is more efficient.\n",
      "  self._set_arrayXarray(i, j, x)\n",
      "/home/titoeb/anaconda3/lib/python3.7/site-packages/scipy/sparse/_index.py:112: SparseEfficiencyWarning: Changing the sparsity structure of a csr_matrix is expensive. lil_matrix is more efficient.\n",
      "  self._set_arrayXarray(i, j, x)\n"
     ]
    }
   ],
   "source": [
    "recwalk.train(train_mat.copy(), phi=0.5, alpha=4.42, l1_ratio=0.318, max_iter=27, tolerance=0.01, cores=8, verbose=2)"
   ]
  },
  {
   "cell_type": "code",
   "execution_count": 29,
   "metadata": {},
   "outputs": [],
   "source": [
    "recwalk.k = 8"
   ]
  },
  {
   "cell_type": "code",
   "execution_count": null,
   "metadata": {},
   "outputs": [],
   "source": [
    "perf_all = recwalk.eval_topn(test_mat=eval_mat.copy(), topn=np.array([4, 10 ,20, 40], dtype=np.int32),\n",
    "                             rand_sampled=1000, cores=8, random_state= 1993)\n",
    "print(perf_all)"
   ]
  },
  {
   "cell_type": "code",
   "execution_count": 28,
   "metadata": {},
   "outputs": [
    {
     "name": "stdout",
     "output_type": "stream",
     "text": [
      "{'Recall@4': 0.15254462, 'Recall@10': 0.3135492, 'Recall@20': 0.44465607, 'Recall@40': 0.5797936}\n"
     ]
    }
   ],
   "source": [
    "perf_all = recwalk.eval_topn(test_mat=eval_mat.copy(), topn=np.array([4, 10 ,20, 40], dtype=np.int32),\n",
    "                             rand_sampled=1000, cores=8, random_state= 1993)\n",
    "print(perf_all)"
   ]
  },
  {
   "cell_type": "code",
   "execution_count": 26,
   "metadata": {},
   "outputs": [
    {
     "name": "stdout",
     "output_type": "stream",
     "text": [
      "{'Recall@4': 0.15343048, 'Recall@10': 0.31430218, 'Recall@20': 0.44904107, 'Recall@40': 0.5828055}\n"
     ]
    }
   ],
   "source": [
    "perf_all = recwalk.eval_topn(test_mat=eval_mat.copy(), topn=np.array([4, 10 ,20, 40], dtype=np.int32),\n",
    "                             rand_sampled=1000, cores=8, random_state= 1993)\n",
    "print(perf_all)"
   ]
  },
  {
   "cell_type": "code",
   "execution_count": 25,
   "metadata": {},
   "outputs": [
    {
     "name": "stdout",
     "output_type": "stream",
     "text": [
      "{'Recall@4': 0.15223457, 'Recall@10': 0.31496656, 'Recall@20': 0.45019266, 'Recall@40': 0.5838242}\n"
     ]
    }
   ],
   "source": [
    "perf_all = recwalk.eval_topn(test_mat=eval_mat.copy(), topn=np.array([4, 10 ,20, 40], dtype=np.int32),\n",
    "                             rand_sampled=1000, cores=8, random_state= 1993)\n",
    "print(perf_all)"
   ]
  },
  {
   "cell_type": "code",
   "execution_count": 23,
   "metadata": {},
   "outputs": [
    {
     "name": "stdout",
     "output_type": "stream",
     "text": [
      "{'Recall@4': 0.15108296, 'Recall@10': 0.3140364, 'Recall@20': 0.44726935, 'Recall@40': 0.578952}\n"
     ]
    }
   ],
   "source": [
    "perf_all = recwalk.eval_topn(test_mat=eval_mat.copy(), topn=np.array([4, 10 ,20, 40], dtype=np.int32),\n",
    "                             rand_sampled=1000, cores=8, random_state= 1993)\n",
    "print(perf_all)"
   ]
  },
  {
   "cell_type": "code",
   "execution_count": 18,
   "metadata": {},
   "outputs": [
    {
     "name": "stdout",
     "output_type": "stream",
     "text": [
      "{'Recall@4': 0.09066749, 'Recall@10': 0.22739957, 'Recall@20': 0.36072108, 'Recall@40': 0.48691145}\n"
     ]
    }
   ],
   "source": [
    "perf_all = recwalk.eval_topn(test_mat=eval_mat.copy(), topn=np.array([4, 10 ,20, 40], dtype=np.int32),\n",
    "                             rand_sampled=1000, cores=8, random_state= 1993)\n",
    "print(perf_all)"
   ]
  },
  {
   "cell_type": "code",
   "execution_count": null,
   "metadata": {},
   "outputs": [],
   "source": []
  },
  {
   "cell_type": "code",
   "execution_count": 9,
   "metadata": {},
   "outputs": [
    {
     "name": "stdout",
     "output_type": "stream",
     "text": [
      "{'Recall@4': 0.16596536, 'Recall@10': 0.3040705, 'Recall@20': 0.43353856, 'Recall@40': 0.5723967}\n"
     ]
    }
   ],
   "source": [
    "print(perf_all)"
   ]
  },
  {
   "cell_type": "code",
   "execution_count": null,
   "metadata": {},
   "outputs": [],
   "source": []
  },
  {
   "cell_type": "code",
   "execution_count": 23,
   "metadata": {},
   "outputs": [],
   "source": [
    "P = recwalk.P.copy()"
   ]
  },
  {
   "cell_type": "code",
   "execution_count": 25,
   "metadata": {},
   "outputs": [
    {
     "ename": "MemoryError",
     "evalue": "",
     "output_type": "error",
     "traceback": [
      "\u001b[0;31m---------------------------------------------------------------------------\u001b[0m",
      "\u001b[0;31mMemoryError\u001b[0m                               Traceback (most recent call last)",
      "\u001b[0;32m<ipython-input-25-f5e23347ebbb>\u001b[0m in \u001b[0;36m<module>\u001b[0;34m\u001b[0m\n\u001b[0;32m----> 1\u001b[0;31m \u001b[0mP_2\u001b[0m \u001b[0;34m=\u001b[0m \u001b[0mP\u001b[0m\u001b[0;34m.\u001b[0m\u001b[0mdot\u001b[0m\u001b[0;34m(\u001b[0m\u001b[0mP\u001b[0m\u001b[0;34m)\u001b[0m\u001b[0;34m\u001b[0m\u001b[0;34m\u001b[0m\u001b[0m\n\u001b[0m",
      "\u001b[0;32m~/anaconda3/lib/python3.7/site-packages/scipy/sparse/base.py\u001b[0m in \u001b[0;36mdot\u001b[0;34m(self, other)\u001b[0m\n\u001b[1;32m    361\u001b[0m \u001b[0;34m\u001b[0m\u001b[0m\n\u001b[1;32m    362\u001b[0m         \"\"\"\n\u001b[0;32m--> 363\u001b[0;31m         \u001b[0;32mreturn\u001b[0m \u001b[0mself\u001b[0m \u001b[0;34m*\u001b[0m \u001b[0mother\u001b[0m\u001b[0;34m\u001b[0m\u001b[0;34m\u001b[0m\u001b[0m\n\u001b[0m\u001b[1;32m    364\u001b[0m \u001b[0;34m\u001b[0m\u001b[0m\n\u001b[1;32m    365\u001b[0m     \u001b[0;32mdef\u001b[0m \u001b[0mpower\u001b[0m\u001b[0;34m(\u001b[0m\u001b[0mself\u001b[0m\u001b[0;34m,\u001b[0m \u001b[0mn\u001b[0m\u001b[0;34m,\u001b[0m \u001b[0mdtype\u001b[0m\u001b[0;34m=\u001b[0m\u001b[0;32mNone\u001b[0m\u001b[0;34m)\u001b[0m\u001b[0;34m:\u001b[0m\u001b[0;34m\u001b[0m\u001b[0;34m\u001b[0m\u001b[0m\n",
      "\u001b[0;32m~/anaconda3/lib/python3.7/site-packages/scipy/sparse/base.py\u001b[0m in \u001b[0;36m__mul__\u001b[0;34m(self, other)\u001b[0m\n\u001b[1;32m    479\u001b[0m             \u001b[0;32mif\u001b[0m \u001b[0mself\u001b[0m\u001b[0;34m.\u001b[0m\u001b[0mshape\u001b[0m\u001b[0;34m[\u001b[0m\u001b[0;36m1\u001b[0m\u001b[0;34m]\u001b[0m \u001b[0;34m!=\u001b[0m \u001b[0mother\u001b[0m\u001b[0;34m.\u001b[0m\u001b[0mshape\u001b[0m\u001b[0;34m[\u001b[0m\u001b[0;36m0\u001b[0m\u001b[0;34m]\u001b[0m\u001b[0;34m:\u001b[0m\u001b[0;34m\u001b[0m\u001b[0;34m\u001b[0m\u001b[0m\n\u001b[1;32m    480\u001b[0m                 \u001b[0;32mraise\u001b[0m \u001b[0mValueError\u001b[0m\u001b[0;34m(\u001b[0m\u001b[0;34m'dimension mismatch'\u001b[0m\u001b[0;34m)\u001b[0m\u001b[0;34m\u001b[0m\u001b[0;34m\u001b[0m\u001b[0m\n\u001b[0;32m--> 481\u001b[0;31m             \u001b[0;32mreturn\u001b[0m \u001b[0mself\u001b[0m\u001b[0;34m.\u001b[0m\u001b[0m_mul_sparse_matrix\u001b[0m\u001b[0;34m(\u001b[0m\u001b[0mother\u001b[0m\u001b[0;34m)\u001b[0m\u001b[0;34m\u001b[0m\u001b[0;34m\u001b[0m\u001b[0m\n\u001b[0m\u001b[1;32m    482\u001b[0m \u001b[0;34m\u001b[0m\u001b[0m\n\u001b[1;32m    483\u001b[0m         \u001b[0;31m# If it's a list or whatever, treat it like a matrix\u001b[0m\u001b[0;34m\u001b[0m\u001b[0;34m\u001b[0m\u001b[0;34m\u001b[0m\u001b[0m\n",
      "\u001b[0;32m~/anaconda3/lib/python3.7/site-packages/scipy/sparse/compressed.py\u001b[0m in \u001b[0;36m_mul_sparse_matrix\u001b[0;34m(self, other)\u001b[0m\n\u001b[1;32m    514\u001b[0m                                     maxval=nnz)\n\u001b[1;32m    515\u001b[0m         \u001b[0mindptr\u001b[0m \u001b[0;34m=\u001b[0m \u001b[0mnp\u001b[0m\u001b[0;34m.\u001b[0m\u001b[0masarray\u001b[0m\u001b[0;34m(\u001b[0m\u001b[0mindptr\u001b[0m\u001b[0;34m,\u001b[0m \u001b[0mdtype\u001b[0m\u001b[0;34m=\u001b[0m\u001b[0midx_dtype\u001b[0m\u001b[0;34m)\u001b[0m\u001b[0;34m\u001b[0m\u001b[0;34m\u001b[0m\u001b[0m\n\u001b[0;32m--> 516\u001b[0;31m         \u001b[0mindices\u001b[0m \u001b[0;34m=\u001b[0m \u001b[0mnp\u001b[0m\u001b[0;34m.\u001b[0m\u001b[0mempty\u001b[0m\u001b[0;34m(\u001b[0m\u001b[0mnnz\u001b[0m\u001b[0;34m,\u001b[0m \u001b[0mdtype\u001b[0m\u001b[0;34m=\u001b[0m\u001b[0midx_dtype\u001b[0m\u001b[0;34m)\u001b[0m\u001b[0;34m\u001b[0m\u001b[0;34m\u001b[0m\u001b[0m\n\u001b[0m\u001b[1;32m    517\u001b[0m         \u001b[0mdata\u001b[0m \u001b[0;34m=\u001b[0m \u001b[0mnp\u001b[0m\u001b[0;34m.\u001b[0m\u001b[0mempty\u001b[0m\u001b[0;34m(\u001b[0m\u001b[0mnnz\u001b[0m\u001b[0;34m,\u001b[0m \u001b[0mdtype\u001b[0m\u001b[0;34m=\u001b[0m\u001b[0mupcast\u001b[0m\u001b[0;34m(\u001b[0m\u001b[0mself\u001b[0m\u001b[0;34m.\u001b[0m\u001b[0mdtype\u001b[0m\u001b[0;34m,\u001b[0m \u001b[0mother\u001b[0m\u001b[0;34m.\u001b[0m\u001b[0mdtype\u001b[0m\u001b[0;34m)\u001b[0m\u001b[0;34m)\u001b[0m\u001b[0;34m\u001b[0m\u001b[0;34m\u001b[0m\u001b[0m\n\u001b[1;32m    518\u001b[0m \u001b[0;34m\u001b[0m\u001b[0m\n",
      "\u001b[0;31mMemoryError\u001b[0m: "
     ]
    }
   ],
   "source": [
    "P_2 = P.dot(P)"
   ]
  },
  {
   "cell_type": "code",
   "execution_count": 22,
   "metadata": {},
   "outputs": [
    {
     "data": {
      "text/plain": [
       "True"
      ]
     },
     "execution_count": 22,
     "metadata": {},
     "output_type": "execute_result"
    }
   ],
   "source": [
    "np.allclose(recwalk.P.sum(axis=0).A1, 1.0)"
   ]
  },
  {
   "cell_type": "code",
   "execution_count": 18,
   "metadata": {},
   "outputs": [
    {
     "data": {
      "text/plain": [
       "array([0.53333334, 0.52172232, 0.50197457, ..., 6.55785873, 1.67305628,\n",
       "       0.90208379])"
      ]
     },
     "execution_count": 18,
     "metadata": {},
     "output_type": "execute_result"
    }
   ],
   "source": [
    "recwalk.P.sum(axis=1).A1"
   ]
  },
  {
   "cell_type": "markdown",
   "metadata": {},
   "source": [
    "Test the internal functions of RecWalk"
   ]
  },
  {
   "cell_type": "code",
   "execution_count": 7,
   "metadata": {},
   "outputs": [],
   "source": [
    "def fill_empty_row_or_col(mat, fill_value=1.0):\n",
    "    mat=mat.copy()\n",
    "\n",
    "    # First fill the empty rows\n",
    "    empty_rows = (mat.sum(axis=1).A1 == 0)\n",
    "\n",
    "    # Sample one random item for each of them\n",
    "    random_items = np.random.randint(0, mat.shape[1], empty_rows.sum())\n",
    "    mat[empty_rows, random_items] = fill_value\n",
    "\n",
    "    # If there are some columns remaining zero also fill them!\n",
    "    empty_cols = (mat.sum(axis=0).A1 == 0)\n",
    "    if empty_cols.any():\n",
    "        random_users=np.random.randint(0, mat.shape[0], empty_cols.sum())\n",
    "        mat[random_users, empty_cols] = fill_value\n",
    "    return mat\n",
    "\n",
    "def create_A_g(mat):\n",
    "    n_users, n_items = mat.shape\n",
    "\n",
    "    # Built upper half.\n",
    "    zeros_upper_left = scipy.sparse.csr_matrix((n_users, n_users), dtype=np.float32) \n",
    "    upper_half = scipy.sparse.hstack([zeros_upper_left, mat], format='csr')\n",
    "\n",
    "    # Build lower half.\n",
    "    zeros_lower_right = scipy.sparse.csr_matrix((n_items, n_items), dtype=np.float32)    \n",
    "    lower_half = scipy.sparse.hstack([mat.T, zeros_lower_right], format='csr')\n",
    "\n",
    "    A_g = scipy.sparse.vstack([upper_half, lower_half], format='csr')\n",
    "    return A_g\n",
    "\n",
    "def create_H(mat):\n",
    "    A_g = create_A_g(mat)\n",
    "\n",
    "    # np.dot(A, 1_n)\n",
    "    row_sums = A_g.sum(axis=1).A1\n",
    "\n",
    "    # fill the digonal matrix with the inverse of row sums.\n",
    "    diag_inv_row_sum = scipy.sparse.diags(diagonals=(1 / row_sums), offsets=0, dtype=np.float32, format='csr')\n",
    "\n",
    "    return diag_inv_row_sum.dot(A_g)\n",
    "\n",
    "def create_M_i(W_indptr, W_indices, W_data, n_items):\n",
    "    \"\"\"\n",
    "    M_i is create by making W row stochastic. \n",
    "    \"\"\"\n",
    "    W = scipy.sparse.csr_matrix((W_data, W_indices, W_indptr), shape=(n_items, n_items), dtype=np.float32)\n",
    "    W_normalized = W.copy()\n",
    "\n",
    "    # Compute maximal row sums\n",
    "    row_sums = W.sum(axis=1).A1\n",
    "    row_sum_max = row_sums.max()\n",
    "\n",
    "    # Normalize W by the maximal row sums.\n",
    "    W_normalized.data /= row_sum_max\n",
    "\n",
    "    # Create diagonal mat that reintroduces the residuals to make the final Matrix row stochastic.\n",
    "    diag_mat = scipy.sparse.diags(diagonals=1 - (row_sums / row_sum_max), offsets=0, dtype=np.float32, format='csr')\n",
    "\n",
    "    M_i = W_normalized + diag_mat\n",
    "\n",
    "    return M_i\n",
    "\n",
    "def create_M(indptr, indices, data, n_users, n_items):\n",
    "    # Make W row stochastic.\n",
    "    M_i = create_M_i(indptr, indices, data, n_items)\n",
    "\n",
    "    # Fill the rest of the matrix with zeros and the upper left with an identity matrix.\n",
    "    I = scipy.sparse.diags(diagonals=np.full(n_users, 1, dtype=np.float32), offsets=0, dtype=np.float32, format='csr')\n",
    "    zeros_upper_right = scipy.sparse.csr_matrix((n_users, n_items), dtype=np.float32)    \n",
    "    zeros_lower_left = scipy.sparse.csr_matrix((n_items, n_users), dtype=np.float32)    \n",
    "\n",
    "    upper_half = scipy.sparse.hstack([I, zeros_upper_right], format='csr')\n",
    "    lower_half = scipy.sparse.hstack([zeros_lower_left, M_i], format='csr')\n",
    "\n",
    "    M = scipy.sparse.vstack([upper_half, lower_half], format='csr')\n",
    "    return M"
   ]
  },
  {
   "cell_type": "code",
   "execution_count": null,
   "metadata": {},
   "outputs": [],
   "source": []
  }
 ],
 "metadata": {
  "kernelspec": {
   "display_name": "Python 3",
   "language": "python",
   "name": "python3"
  },
  "language_info": {
   "codemirror_mode": {
    "name": "ipython",
    "version": 3
   },
   "file_extension": ".py",
   "mimetype": "text/x-python",
   "name": "python",
   "nbconvert_exporter": "python",
   "pygments_lexer": "ipython3",
   "version": "3.7.3"
  }
 },
 "nbformat": 4,
 "nbformat_minor": 4
}
